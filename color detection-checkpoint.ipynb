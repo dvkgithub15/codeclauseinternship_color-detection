{
 "cells": [
  {
   "cell_type": "code",
   "execution_count": null,
   "id": "416566f9",
   "metadata": {},
   "outputs": [],
   "source": [
    "import cv2\n",
    "import pandas as pd\n",
    "import numpy as np\n",
    "\n",
    "img = cv2.imread(\"C:/Users/sakki/OneDrive/Pictures/dog.jpg\")\n",
    "imgWidth = img.shape[1] - 40\n",
    "\n",
    "index = ['color', 'color_name', 'hex', 'R', 'G', 'B']\n",
    "df = pd.read_csv(\"C:/Users/sakki/Downloads/colors.csv\", header=None, names=index)\n",
    "\n",
    "\n",
    "r = g = b = xpos = ypos = 0\n",
    "def getRGBvalue(event, x, y, flags, param):\n",
    "    global b, g, r, xpos, ypos, clicked\n",
    "    xpos = x\n",
    "    ypos = y\n",
    "    b,g,r = img[y,x]\n",
    "    b = int(b)\n",
    "    g = int(g)\n",
    "    r = int(r)\n",
    "    \n",
    "    \n",
    "def colorname(B,G,R):\n",
    "    minimum = 10000\n",
    "    for i in range(len(df)):\n",
    "        d = abs(B-int(df.loc[i,\"B\"])) + abs(G-int(df.loc[i,\"G\"])) + abs(R-int(df.loc[i,\"R\"]))\n",
    "        if (d<=minimum):\n",
    "            minimum = d\n",
    "            cname = df.loc[i,\"color_name\"] + \"Hex\" + df.loc[i, \"hex\"]\n",
    "    return cname\n",
    "\n",
    "cv2.namedWindow(\"Image\")\n",
    "cv2.setMouseCallback(\"Image\",getRGBvalue)\n",
    "            \n",
    "while True:\n",
    "    cv2.imshow(\"Image\", img)\n",
    "    cv2.rectangle(img, (20,20), (imgWidth, 60),(b,g,r), -1)\n",
    "    text = colorname(b,g,r) + '   R=' + str(r) + ' G=' + str(g) + ' B=' + str(b)\n",
    "    cv2.putText(img,text, (50,50),2, 0.8, (255,255,255),2,cv2.LINE_AA)    \n",
    "    if(r+g+b >= 600):\n",
    "        cv2.putText(img,text,(50,50), 2, 0.8, (0,0,0),2,cv2.LINE_AA)   \n",
    "    if cv2.waitKey(20) & 0xFF == 27:\n",
    "        break\n",
    "    \n",
    "cv2.destroyAllWindows()"
   ]
  },
  {
   "cell_type": "code",
   "execution_count": null,
   "id": "545d49a7",
   "metadata": {},
   "outputs": [],
   "source": []
  }
 ],
 "metadata": {
  "kernelspec": {
   "display_name": "Python 3 (ipykernel)",
   "language": "python",
   "name": "python3"
  },
  "language_info": {
   "codemirror_mode": {
    "name": "ipython",
    "version": 3
   },
   "file_extension": ".py",
   "mimetype": "text/x-python",
   "name": "python",
   "nbconvert_exporter": "python",
   "pygments_lexer": "ipython3",
   "version": "3.9.13"
  }
 },
 "nbformat": 4,
 "nbformat_minor": 5
}
